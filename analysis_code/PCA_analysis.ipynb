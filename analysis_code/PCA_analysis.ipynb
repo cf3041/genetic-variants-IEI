{
  "metadata": {
    "kernelspec": {
      "name": "python",
      "display_name": "Python (Pyodide)",
      "language": "python"
    },
    "language_info": {
      "codemirror_mode": {
        "name": "python",
        "version": 3
      },
      "file_extension": ".py",
      "mimetype": "text/x-python",
      "name": "python",
      "nbconvert_exporter": "python",
      "pygments_lexer": "ipython3",
      "version": "3.8"
    }
  },
  "nbformat_minor": 4,
  "nbformat": 4,
  "cells": [
    {
      "cell_type": "code",
      "source": "import pandas as pd\nfrom sklearn.decomposition import PCA\nfrom sklearn.preprocessing import StandardScaler\nimport matplotlib.pyplot as plt\n\n# Load the Excel file\nfile_path = '/mnt/data/For PCA.xlsx'\ndata = pd.ExcelFile(file_path)\n\n# Load data from the \"Stim\" sheet\nstim_data = data.parse(\"Stim\")\n\n# Group by Genotype and average triplicates\nstim_grouped = stim_data.groupby('Genotype').mean()\n\n# Select features for PCA (columns B-G)\nstim_features = stim_grouped.iloc[:, :]\n\n# Standardize the data\nscaler = StandardScaler()\nstim_scaled = scaler.fit_transform(stim_features)\n\n# Perform PCA\npca_stim = PCA()\nstim_pca_result = pca_stim.fit_transform(stim_scaled)\n\n# Create a DataFrame for PCA results\nstim_pca_df = pd.DataFrame(\n    stim_pca_result[:, :2],  # Use first two PCs for 2D visualization\n    index=stim_grouped.index,\n    columns=[\"PC1\", \"PC2\"]\n)\n\n# Beautified 2D PCA plot for \"Stim\" sheet\ndef beautified_2d_pca(pca_df, title):\n    plt.figure(figsize=(12, 8))\n    plt.scatter(\n        pca_df[\"PC1\"], \n        pca_df[\"PC2\"], \n        s=150, alpha=0.8, color=\"blue\", edgecolors='black', label=\"Gene Variant\", marker='o'\n    )\n    for i, txt in enumerate(pca_df.index):\n        plt.annotate(\n            txt, \n            (pca_df[\"PC1\"].iloc[i] + 0.02, pca_df[\"PC2\"].iloc[i] + 0.02), \n            fontsize=10, \n            color=\"darkblue\"\n        )\n    plt.title(title, fontsize=16, fontweight='bold')\n    plt.xlabel(\"Principal Component 1\", fontsize=12)\n    plt.ylabel(\"Principal Component 2\", fontsize=12)\n    plt.grid(visible=True, linestyle='--', alpha=0.5)\n    plt.tight_layout()\n    plt.legend()\n    plt.show()\n\nbeautified_2d_pca(stim_pca_df, \"PCA: Stim Sheet\")\n\n# Repeat the process for the \"Len Stim\" sheet\nlen_stim_data = data.parse(\"Len Stim\")\n\n# Group by Genotype and average triplicates\nlen_stim_grouped = len_stim_data.groupby('Genotype').mean()\n\n# Select features for PCA (columns B-G)\nlen_stim_features = len_stim_grouped.iloc[:, :]\n\n# Standardize the data\nlen_stim_scaled = scaler.fit_transform(len_stim_features)\n\n# Perform PCA\npca_len_stim = PCA()\nlen_stim_pca_result = pca_len_stim.fit_transform(len_stim_scaled)\n\n# Create a DataFrame for PCA results\nlen_stim_pca_df = pd.DataFrame(\n    len_stim_pca_result[:, :2],  # Use first two PCs for 2D visualization\n    index=len_stim_grouped.index,\n    columns=[\"PC1\", \"PC2\"]\n)\n\n# Beautified 2D PCA plot for \"Len Stim\" sheet\nbeautified_2d_pca(len_stim_pca_df, \"PCA: Len Stim Sheet\")\n",
      "metadata": {
        "trusted": true
      },
      "outputs": [],
      "execution_count": null
    }
  ]
}